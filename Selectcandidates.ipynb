{
 "cells": [
  {
   "cell_type": "markdown",
   "metadata": {},
   "source": [
    "# Human Resources and Candidate Search\n",
    "by Xiang Ou"
   ]
  },
  {
   "cell_type": "markdown",
   "metadata": {},
   "source": [
    "## Content:\n",
    "### [Project Objective](#P)\n",
    "### [Data Cleaning](#C)\n",
    "### [Read Job Description](#J)\n",
    "### [Read Job Resume](#R)\n",
    "### [Match Score](#M)\n",
    "### [Top 5 Candidates](#T)\n",
    "### [Write a Interview CSV file](#W)\n",
    "### [Summary](#S)\n",
    "### [Recommendations](#Re)"
   ]
  },
  {
   "cell_type": "markdown",
   "metadata": {},
   "source": [
    "### <span id=\"P\">Project Objective</span>"
   ]
  },
  {
   "cell_type": "markdown",
   "metadata": {},
   "source": [
    "Company A, as a Global Data Sciences team is responsible for developing and enhancing machine learning capabilities,  is looking for a data scientist with strong analytical, mathematical, and programming skills, and would like to accept various kinds of challenges in complex environments.  So far, HR department has received 15 resumes. As a data analyst, my task is to screen all the resumes in order to select five qualited candidates and pioritized them by how much they match for the job requirements. In addition, I need to create a csv file with five candiates information for interviewer to prepare the interviews.  "
   ]
  },
  {
   "cell_type": "markdown",
   "metadata": {},
   "source": [
    "# Make Library Ready"
   ]
  },
  {
   "cell_type": "code",
   "execution_count": null,
   "metadata": {},
   "outputs": [],
   "source": [
    "import pandas as pd\n",
    "from io import StringIO\n",
    "import os\n",
    "import csv"
   ]
  },
  {
   "cell_type": "markdown",
   "metadata": {},
   "source": [
    "### <span id=\"C\">Data Cleaning:</span>"
   ]
  },
  {
   "cell_type": "markdown",
   "metadata": {},
   "source": [
    "Load csv, skip headers, filling up na"
   ]
  },
  {
   "cell_type": "code",
   "execution_count": 923,
   "metadata": {
    "scrolled": true
   },
   "outputs": [
    {
     "data": {
      "text/html": [
       "<div>\n",
       "<style scoped>\n",
       "    .dataframe tbody tr th:only-of-type {\n",
       "        vertical-align: middle;\n",
       "    }\n",
       "\n",
       "    .dataframe tbody tr th {\n",
       "        vertical-align: top;\n",
       "    }\n",
       "\n",
       "    .dataframe thead th {\n",
       "        text-align: right;\n",
       "    }\n",
       "</style>\n",
       "<table border=\"1\" class=\"dataframe\">\n",
       "  <thead>\n",
       "    <tr style=\"text-align: right;\">\n",
       "      <th></th>\n",
       "      <th>Filetype:CSV</th>\n",
       "      <th>Unnamed: 1</th>\n",
       "    </tr>\n",
       "  </thead>\n",
       "  <tbody>\n",
       "    <tr>\n",
       "      <th>0</th>\n",
       "      <td>Time: Jan 29, 2021</td>\n",
       "      <td>NaN</td>\n",
       "    </tr>\n",
       "    <tr>\n",
       "      <th>1</th>\n",
       "      <td>Company A Data Scientist Canadiates</td>\n",
       "      <td>NaN</td>\n",
       "    </tr>\n",
       "    <tr>\n",
       "      <th>2</th>\n",
       "      <td>Applicant Name</td>\n",
       "      <td>File Name</td>\n",
       "    </tr>\n",
       "    <tr>\n",
       "      <th>3</th>\n",
       "      <td>Amy Lin</td>\n",
       "      <td>Amy.txt</td>\n",
       "    </tr>\n",
       "    <tr>\n",
       "      <th>4</th>\n",
       "      <td>David Will</td>\n",
       "      <td>David.txt</td>\n",
       "    </tr>\n",
       "    <tr>\n",
       "      <th>5</th>\n",
       "      <td>Diggy Mao</td>\n",
       "      <td>Diggy.txt</td>\n",
       "    </tr>\n",
       "    <tr>\n",
       "      <th>6</th>\n",
       "      <td>Elisa Wei</td>\n",
       "      <td>NaN</td>\n",
       "    </tr>\n",
       "    <tr>\n",
       "      <th>7</th>\n",
       "      <td>Grace Jordon</td>\n",
       "      <td>Grace.txt</td>\n",
       "    </tr>\n",
       "    <tr>\n",
       "      <th>8</th>\n",
       "      <td>Henry Wu</td>\n",
       "      <td>Henry.txt</td>\n",
       "    </tr>\n",
       "    <tr>\n",
       "      <th>9</th>\n",
       "      <td>Ivy Jones</td>\n",
       "      <td>Ivy.txt</td>\n",
       "    </tr>\n",
       "    <tr>\n",
       "      <th>10</th>\n",
       "      <td>Josephine Ou</td>\n",
       "      <td>Josephine.txt</td>\n",
       "    </tr>\n",
       "    <tr>\n",
       "      <th>11</th>\n",
       "      <td>Kristina Fan</td>\n",
       "      <td>Kristan.txt</td>\n",
       "    </tr>\n",
       "    <tr>\n",
       "      <th>12</th>\n",
       "      <td>Larry Ding</td>\n",
       "      <td>Larry.txt</td>\n",
       "    </tr>\n",
       "    <tr>\n",
       "      <th>13</th>\n",
       "      <td>Marcos Leung</td>\n",
       "      <td>Marcos.txt</td>\n",
       "    </tr>\n",
       "    <tr>\n",
       "      <th>14</th>\n",
       "      <td>Michael Wang</td>\n",
       "      <td>Michael.txt</td>\n",
       "    </tr>\n",
       "    <tr>\n",
       "      <th>15</th>\n",
       "      <td>Peter Leung</td>\n",
       "      <td>NaN</td>\n",
       "    </tr>\n",
       "    <tr>\n",
       "      <th>16</th>\n",
       "      <td>Teresa Wang</td>\n",
       "      <td>Teresa.txt</td>\n",
       "    </tr>\n",
       "    <tr>\n",
       "      <th>17</th>\n",
       "      <td>Terry Wu</td>\n",
       "      <td>Terry.txt</td>\n",
       "    </tr>\n",
       "  </tbody>\n",
       "</table>\n",
       "</div>"
      ],
      "text/plain": [
       "                           Filetype:CSV     Unnamed: 1\n",
       "0                    Time: Jan 29, 2021            NaN\n",
       "1   Company A Data Scientist Canadiates            NaN\n",
       "2                        Applicant Name      File Name\n",
       "3                               Amy Lin        Amy.txt\n",
       "4                            David Will      David.txt\n",
       "5                             Diggy Mao      Diggy.txt\n",
       "6                             Elisa Wei            NaN\n",
       "7                          Grace Jordon      Grace.txt\n",
       "8                              Henry Wu      Henry.txt\n",
       "9                             Ivy Jones        Ivy.txt\n",
       "10                        Josephine Ou   Josephine.txt\n",
       "11                         Kristina Fan    Kristan.txt\n",
       "12                           Larry Ding      Larry.txt\n",
       "13                         Marcos Leung     Marcos.txt\n",
       "14                         Michael Wang    Michael.txt\n",
       "15                          Peter Leung            NaN\n",
       "16                          Teresa Wang     Teresa.txt\n",
       "17                             Terry Wu      Terry.txt"
      ]
     },
     "execution_count": 923,
     "metadata": {},
     "output_type": "execute_result"
    }
   ],
   "source": [
    "\n",
    "#read Candidates csv file.\n",
    "Candidates = pd.read_csv(\"Candidates.csv\", encoding=\"ISO-8859-1\")\n",
    "Candidates"
   ]
  },
  {
   "cell_type": "markdown",
   "metadata": {},
   "source": [
    "# Skip 3 hearders."
   ]
  },
  {
   "cell_type": "code",
   "execution_count": 902,
   "metadata": {
    "scrolled": true
   },
   "outputs": [
    {
     "data": {
      "text/html": [
       "<div>\n",
       "<style scoped>\n",
       "    .dataframe tbody tr th:only-of-type {\n",
       "        vertical-align: middle;\n",
       "    }\n",
       "\n",
       "    .dataframe tbody tr th {\n",
       "        vertical-align: top;\n",
       "    }\n",
       "\n",
       "    .dataframe thead th {\n",
       "        text-align: right;\n",
       "    }\n",
       "</style>\n",
       "<table border=\"1\" class=\"dataframe\">\n",
       "  <thead>\n",
       "    <tr style=\"text-align: right;\">\n",
       "      <th></th>\n",
       "      <th>Applicant Name</th>\n",
       "      <th>File Name</th>\n",
       "    </tr>\n",
       "  </thead>\n",
       "  <tbody>\n",
       "    <tr>\n",
       "      <th>0</th>\n",
       "      <td>Amy Lin</td>\n",
       "      <td>Amy.txt</td>\n",
       "    </tr>\n",
       "    <tr>\n",
       "      <th>1</th>\n",
       "      <td>David Will</td>\n",
       "      <td>David.txt</td>\n",
       "    </tr>\n",
       "    <tr>\n",
       "      <th>2</th>\n",
       "      <td>Diggy Mao</td>\n",
       "      <td>Diggy.txt</td>\n",
       "    </tr>\n",
       "    <tr>\n",
       "      <th>3</th>\n",
       "      <td>Elisa Wei</td>\n",
       "      <td>NaN</td>\n",
       "    </tr>\n",
       "    <tr>\n",
       "      <th>4</th>\n",
       "      <td>Grace Jordon</td>\n",
       "      <td>Grace.txt</td>\n",
       "    </tr>\n",
       "    <tr>\n",
       "      <th>5</th>\n",
       "      <td>Henry Wu</td>\n",
       "      <td>Henry.txt</td>\n",
       "    </tr>\n",
       "    <tr>\n",
       "      <th>6</th>\n",
       "      <td>Ivy Jones</td>\n",
       "      <td>Ivy.txt</td>\n",
       "    </tr>\n",
       "    <tr>\n",
       "      <th>7</th>\n",
       "      <td>Josephine Ou</td>\n",
       "      <td>Josephine.txt</td>\n",
       "    </tr>\n",
       "    <tr>\n",
       "      <th>8</th>\n",
       "      <td>Kristina Fan</td>\n",
       "      <td>Kristan.txt</td>\n",
       "    </tr>\n",
       "    <tr>\n",
       "      <th>9</th>\n",
       "      <td>Larry Ding</td>\n",
       "      <td>Larry.txt</td>\n",
       "    </tr>\n",
       "    <tr>\n",
       "      <th>10</th>\n",
       "      <td>Marcos Leung</td>\n",
       "      <td>Marcos.txt</td>\n",
       "    </tr>\n",
       "    <tr>\n",
       "      <th>11</th>\n",
       "      <td>Michael Wang</td>\n",
       "      <td>Michael.txt</td>\n",
       "    </tr>\n",
       "    <tr>\n",
       "      <th>12</th>\n",
       "      <td>Peter Leung</td>\n",
       "      <td>NaN</td>\n",
       "    </tr>\n",
       "    <tr>\n",
       "      <th>13</th>\n",
       "      <td>Teresa Wang</td>\n",
       "      <td>Teresa.txt</td>\n",
       "    </tr>\n",
       "    <tr>\n",
       "      <th>14</th>\n",
       "      <td>Terry Wu</td>\n",
       "      <td>Terry.txt</td>\n",
       "    </tr>\n",
       "  </tbody>\n",
       "</table>\n",
       "</div>"
      ],
      "text/plain": [
       "   Applicant Name      File Name\n",
       "0         Amy Lin        Amy.txt\n",
       "1      David Will      David.txt\n",
       "2       Diggy Mao      Diggy.txt\n",
       "3       Elisa Wei            NaN\n",
       "4    Grace Jordon      Grace.txt\n",
       "5        Henry Wu      Henry.txt\n",
       "6       Ivy Jones        Ivy.txt\n",
       "7   Josephine Ou   Josephine.txt\n",
       "8    Kristina Fan    Kristan.txt\n",
       "9      Larry Ding      Larry.txt\n",
       "10   Marcos Leung     Marcos.txt\n",
       "11   Michael Wang    Michael.txt\n",
       "12    Peter Leung            NaN\n",
       "13    Teresa Wang     Teresa.txt\n",
       "14       Terry Wu      Terry.txt"
      ]
     },
     "execution_count": 902,
     "metadata": {},
     "output_type": "execute_result"
    }
   ],
   "source": [
    "Candidates1 = pd.read_csv(\"Candidates.csv\", encoding=\"ISO-8859-1\",skiprows=3)\n",
    "Candidates1"
   ]
  },
  {
   "cell_type": "markdown",
   "metadata": {},
   "source": [
    "Filling out Nan"
   ]
  },
  {
   "cell_type": "code",
   "execution_count": 924,
   "metadata": {
    "scrolled": true
   },
   "outputs": [
    {
     "data": {
      "text/html": [
       "<div>\n",
       "<style scoped>\n",
       "    .dataframe tbody tr th:only-of-type {\n",
       "        vertical-align: middle;\n",
       "    }\n",
       "\n",
       "    .dataframe tbody tr th {\n",
       "        vertical-align: top;\n",
       "    }\n",
       "\n",
       "    .dataframe thead th {\n",
       "        text-align: right;\n",
       "    }\n",
       "</style>\n",
       "<table border=\"1\" class=\"dataframe\">\n",
       "  <thead>\n",
       "    <tr style=\"text-align: right;\">\n",
       "      <th></th>\n",
       "      <th>Applicant Name</th>\n",
       "      <th>File Name</th>\n",
       "    </tr>\n",
       "  </thead>\n",
       "  <tbody>\n",
       "    <tr>\n",
       "      <th>0</th>\n",
       "      <td>Amy Lin</td>\n",
       "      <td>Amy.txt</td>\n",
       "    </tr>\n",
       "    <tr>\n",
       "      <th>1</th>\n",
       "      <td>David Will</td>\n",
       "      <td>David.txt</td>\n",
       "    </tr>\n",
       "    <tr>\n",
       "      <th>2</th>\n",
       "      <td>Diggy Mao</td>\n",
       "      <td>Diggy.txt</td>\n",
       "    </tr>\n",
       "    <tr>\n",
       "      <th>3</th>\n",
       "      <td>Elisa Wei</td>\n",
       "      <td>Elisa.txt</td>\n",
       "    </tr>\n",
       "    <tr>\n",
       "      <th>4</th>\n",
       "      <td>Grace Jordon</td>\n",
       "      <td>Grace.txt</td>\n",
       "    </tr>\n",
       "    <tr>\n",
       "      <th>5</th>\n",
       "      <td>Henry Wu</td>\n",
       "      <td>Henry.txt</td>\n",
       "    </tr>\n",
       "    <tr>\n",
       "      <th>6</th>\n",
       "      <td>Ivy Jones</td>\n",
       "      <td>Ivy.txt</td>\n",
       "    </tr>\n",
       "    <tr>\n",
       "      <th>7</th>\n",
       "      <td>Josephine Ou</td>\n",
       "      <td>Josephine.txt</td>\n",
       "    </tr>\n",
       "    <tr>\n",
       "      <th>8</th>\n",
       "      <td>Kristina Fan</td>\n",
       "      <td>Kristan.txt</td>\n",
       "    </tr>\n",
       "    <tr>\n",
       "      <th>9</th>\n",
       "      <td>Larry Ding</td>\n",
       "      <td>Larry.txt</td>\n",
       "    </tr>\n",
       "    <tr>\n",
       "      <th>10</th>\n",
       "      <td>Marcos Leung</td>\n",
       "      <td>Marcos.txt</td>\n",
       "    </tr>\n",
       "    <tr>\n",
       "      <th>11</th>\n",
       "      <td>Michael Wang</td>\n",
       "      <td>Michael.txt</td>\n",
       "    </tr>\n",
       "    <tr>\n",
       "      <th>12</th>\n",
       "      <td>Peter Leung</td>\n",
       "      <td>Peter.txt</td>\n",
       "    </tr>\n",
       "    <tr>\n",
       "      <th>13</th>\n",
       "      <td>Teresa Wang</td>\n",
       "      <td>Teresa.txt</td>\n",
       "    </tr>\n",
       "    <tr>\n",
       "      <th>14</th>\n",
       "      <td>Terry Wu</td>\n",
       "      <td>Terry.txt</td>\n",
       "    </tr>\n",
       "  </tbody>\n",
       "</table>\n",
       "</div>"
      ],
      "text/plain": [
       "   Applicant Name      File Name\n",
       "0         Amy Lin        Amy.txt\n",
       "1      David Will      David.txt\n",
       "2       Diggy Mao      Diggy.txt\n",
       "3       Elisa Wei      Elisa.txt\n",
       "4    Grace Jordon      Grace.txt\n",
       "5        Henry Wu      Henry.txt\n",
       "6       Ivy Jones        Ivy.txt\n",
       "7   Josephine Ou   Josephine.txt\n",
       "8    Kristina Fan    Kristan.txt\n",
       "9      Larry Ding      Larry.txt\n",
       "10   Marcos Leung     Marcos.txt\n",
       "11   Michael Wang    Michael.txt\n",
       "12    Peter Leung      Peter.txt\n",
       "13    Teresa Wang     Teresa.txt\n",
       "14       Terry Wu      Terry.txt"
      ]
     },
     "execution_count": 924,
     "metadata": {},
     "output_type": "execute_result"
    }
   ],
   "source": [
    "Candidates1.iloc[3,[1]]=Candidates1.iloc[3,[1]].fillna('Elisa.txt')\n",
    "\n",
    "Candidates1.iloc[12,[1]]=Candidates1.iloc[12,[1]].fillna('Peter.txt')\n",
    "Candidates1"
   ]
  },
  {
   "cell_type": "markdown",
   "metadata": {},
   "source": [
    "create a seires contains candidates' names"
   ]
  },
  {
   "cell_type": "code",
   "execution_count": 925,
   "metadata": {
    "scrolled": true
   },
   "outputs": [],
   "source": [
    "names=Candidates1.iloc[:,0]\n"
   ]
  },
  {
   "cell_type": "markdown",
   "metadata": {},
   "source": [
    "create a seires contains resumes files name."
   ]
  },
  {
   "cell_type": "code",
   "execution_count": 926,
   "metadata": {
    "scrolled": true
   },
   "outputs": [],
   "source": [
    "filenames=Candidates1.iloc[:,1]\n"
   ]
  },
  {
   "cell_type": "markdown",
   "metadata": {},
   "source": [
    "### <span id=\"J\">Read Job Description:</span>"
   ]
  },
  {
   "cell_type": "code",
   "execution_count": 927,
   "metadata": {
    "scrolled": true
   },
   "outputs": [
    {
     "name": "stdout",
     "output_type": "stream",
     "text": [
      "                                        Job Summary:  \\\n",
      "0  Design, develop and implement advanced predict...   \n",
      "1  Collaborate with other data scientists and eng...   \n",
      "2  Being able to work with large volumes of data;...   \n",
      "3  Communicate complex concepts and the results o...   \n",
      "4                                                NaN   \n",
      "5                                                NaN   \n",
      "6                                                NaN   \n",
      "7                                                NaN   \n",
      "\n",
      "                                  Key Qualification:  \n",
      "0  Mastery of one of Python, Java, Scala, C++ or ...  \n",
      "1  Experience building data science or data analy...  \n",
      "2  Some experience with Docker, Kubernetes, or cl...  \n",
      "3  Experience with Relational databases and NoSQL...  \n",
      "4  Demonstrated understanding of the full softwar...  \n",
      "5  Excellent problem solving, critical thinking, ...  \n",
      "6  Solid grasp of computer science fundamentals i...  \n",
      "7   Self-motivated, proactive, and solution-oriented  \n"
     ]
    }
   ],
   "source": [
    "Job = pd.read_csv(\"Jobdescripion .csv\")\n",
    "job=str(Job)\n",
    "print(job)\n",
    "        "
   ]
  },
  {
   "cell_type": "markdown",
   "metadata": {},
   "source": [
    "create a string to contain seven keyskills."
   ]
  },
  {
   "cell_type": "code",
   "execution_count": 928,
   "metadata": {
    "scrolled": false
   },
   "outputs": [],
   "source": [
    "keyskills=str(Job.iloc[:,1])\n",
    "\n"
   ]
  },
  {
   "cell_type": "markdown",
   "metadata": {},
   "source": [
    "create a dictionary to contain seven keyskills."
   ]
  },
  {
   "cell_type": "code",
   "execution_count": 929,
   "metadata": {
    "scrolled": false
   },
   "outputs": [
    {
     "data": {
      "text/plain": [
       "{'0': Key Qualification:    Mastery of one of Python, Java, Scala, C++ or ...\n",
       " Name: 0, dtype: object,\n",
       " '1': Key Qualification:    Experience building data science or data analy...\n",
       " Name: 1, dtype: object,\n",
       " '2': Key Qualification:    Some experience with Docker, Kubernetes, or cl...\n",
       " Name: 2, dtype: object,\n",
       " '3': Key Qualification:    Experience with Relational databases and NoSQL...\n",
       " Name: 3, dtype: object,\n",
       " '4': Key Qualification:    Demonstrated understanding of the full softwar...\n",
       " Name: 4, dtype: object,\n",
       " '5': Key Qualification:    Excellent problem solving, critical thinking, ...\n",
       " Name: 5, dtype: object,\n",
       " '6': Key Qualification:    Solid grasp of computer science fundamentals i...\n",
       " Name: 6, dtype: object,\n",
       " '7': Key Qualification:    Self-motivated, proactive, and solution-oriented\n",
       " Name: 7, dtype: object}"
      ]
     },
     "execution_count": 929,
     "metadata": {},
     "output_type": "execute_result"
    }
   ],
   "source": [
    "\n",
    "skills={'0':Job.iloc[0,[1]],'1':Job.iloc[1,[1]], '2':Job.iloc[2,[1]], '3':Job.iloc[3,[1]], '4':Job.iloc[4,[1]],'5':Job.iloc[5,[1]],'6':Job.iloc[6,[1]], '7':Job.iloc[7,[1]]}\n",
    "skills"
   ]
  },
  {
   "cell_type": "markdown",
   "metadata": {},
   "source": [
    "### <span id=\"R\">Read 15 Resumes:</span>"
   ]
  },
  {
   "cell_type": "markdown",
   "metadata": {},
   "source": [
    "Loop through filenames from Candidates.csv open the 15 resumes."
   ]
  },
  {
   "cell_type": "code",
   "execution_count": 930,
   "metadata": {},
   "outputs": [],
   "source": [
    "import os"
   ]
  },
  {
   "cell_type": "code",
   "execution_count": 931,
   "metadata": {
    "scrolled": false
   },
   "outputs": [],
   "source": [
    "all_files=[]\n",
    "\n",
    "for x in filenames:\n",
    "    with open(x,'r') as f:\n",
    "         file=f.readlines()\n",
    "    all_files.append(file)\n",
    "    "
   ]
  },
  {
   "cell_type": "markdown",
   "metadata": {},
   "source": [
    "convert the filetype to string."
   ]
  },
  {
   "cell_type": "code",
   "execution_count": 932,
   "metadata": {},
   "outputs": [],
   "source": [
    "all_filesnew=[]\n",
    "#j=0\n",
    "for j in all_files:\n",
    "    \n",
    "    new=''.join(j)\n",
    "    all_filesnew.append(new)"
   ]
  },
  {
   "cell_type": "markdown",
   "metadata": {},
   "source": [
    "Pair each resume with job description for comparasion."
   ]
  },
  {
   "cell_type": "code",
   "execution_count": 933,
   "metadata": {},
   "outputs": [],
   "source": [
    "compare=[]\n",
    "i=0\n",
    "for k in all_filesnew:\n",
    "    for i in range(15):\n",
    "        i +=1\n",
    "    \n",
    "    data=[k, job]\n",
    "    compare.append(data)\n",
    "    "
   ]
  },
  {
   "cell_type": "markdown",
   "metadata": {},
   "source": [
    "### <span id=\"M\">Match Score:</span>"
   ]
  },
  {
   "cell_type": "markdown",
   "metadata": {},
   "source": [
    "Cacluate the similarity for each applicants with job description.\n"
   ]
  },
  {
   "cell_type": "code",
   "execution_count": 934,
   "metadata": {
    "scrolled": false
   },
   "outputs": [
    {
     "name": "stdout",
     "output_type": "stream",
     "text": [
      "[[1.         0.50293354]\n",
      " [0.50293354 1.        ]]\n",
      "match50.29% of the job description.\n",
      "[[1.         0.47766557]\n",
      " [0.47766557 1.        ]]\n",
      "match47.77% of the job description.\n",
      "[[1.         0.51812235]\n",
      " [0.51812235 1.        ]]\n",
      "match51.81% of the job description.\n",
      "[[1.        0.5964518]\n",
      " [0.5964518 1.       ]]\n",
      "match59.65% of the job description.\n",
      "[[1.         0.46671077]\n",
      " [0.46671077 1.        ]]\n",
      "match46.67% of the job description.\n",
      "[[1.         0.55573205]\n",
      " [0.55573205 1.        ]]\n",
      "match55.57% of the job description.\n",
      "[[1.         0.42060945]\n",
      " [0.42060945 1.        ]]\n",
      "match42.06% of the job description.\n",
      "[[1.         0.52506964]\n",
      " [0.52506964 1.        ]]\n",
      "match52.51% of the job description.\n",
      "[[1.         0.55457356]\n",
      " [0.55457356 1.        ]]\n",
      "match55.46% of the job description.\n",
      "[[1.         0.48782504]\n",
      " [0.48782504 1.        ]]\n",
      "match48.78% of the job description.\n",
      "[[1.         0.53180121]\n",
      " [0.53180121 1.        ]]\n",
      "match53.18% of the job description.\n",
      "[[1.         0.58226333]\n",
      " [0.58226333 1.        ]]\n",
      "match58.23% of the job description.\n",
      "[[1.         0.42206457]\n",
      " [0.42206457 1.        ]]\n",
      "match42.21% of the job description.\n",
      "[[1.         0.46720255]\n",
      " [0.46720255 1.        ]]\n",
      "match46.72% of the job description.\n",
      "[[1.         0.40755717]\n",
      " [0.40755717 1.        ]]\n",
      "match40.76% of the job description.\n"
     ]
    }
   ],
   "source": [
    "from sklearn. feature_extraction.text import CountVectorizer\n",
    "from sklearn.metrics.pairwise import cosine_similarity\n",
    "match=[]\n",
    "for y in compare:\n",
    "    cv=CountVectorizer()\n",
    "    count_matrix=cv.fit_transform(y)\n",
    "    print(cosine_similarity(count_matrix))\n",
    "    matchPercentage=cosine_similarity(count_matrix)[0][1]*100\n",
    "    matchPercentage=round(matchPercentage,2)\n",
    "    print(\"match\"+str(matchPercentage)+ \"% of the job description.\")\n",
    "    match.append(matchPercentage)\n",
    "    \n",
    "   "
   ]
  },
  {
   "cell_type": "markdown",
   "metadata": {},
   "source": [
    "Create a table to list applicants and their match score."
   ]
  },
  {
   "cell_type": "code",
   "execution_count": 935,
   "metadata": {
    "scrolled": false
   },
   "outputs": [
    {
     "data": {
      "text/html": [
       "<div>\n",
       "<style scoped>\n",
       "    .dataframe tbody tr th:only-of-type {\n",
       "        vertical-align: middle;\n",
       "    }\n",
       "\n",
       "    .dataframe tbody tr th {\n",
       "        vertical-align: top;\n",
       "    }\n",
       "\n",
       "    .dataframe thead th {\n",
       "        text-align: right;\n",
       "    }\n",
       "</style>\n",
       "<table border=\"1\" class=\"dataframe\">\n",
       "  <thead>\n",
       "    <tr style=\"text-align: right;\">\n",
       "      <th></th>\n",
       "      <th>Names</th>\n",
       "      <th>Match</th>\n",
       "    </tr>\n",
       "  </thead>\n",
       "  <tbody>\n",
       "    <tr>\n",
       "      <th>0</th>\n",
       "      <td>Amy Lin</td>\n",
       "      <td>50.29</td>\n",
       "    </tr>\n",
       "    <tr>\n",
       "      <th>1</th>\n",
       "      <td>David Will</td>\n",
       "      <td>47.77</td>\n",
       "    </tr>\n",
       "    <tr>\n",
       "      <th>2</th>\n",
       "      <td>Diggy Mao</td>\n",
       "      <td>51.81</td>\n",
       "    </tr>\n",
       "    <tr>\n",
       "      <th>3</th>\n",
       "      <td>Elisa Wei</td>\n",
       "      <td>59.65</td>\n",
       "    </tr>\n",
       "    <tr>\n",
       "      <th>4</th>\n",
       "      <td>Grace Jordon</td>\n",
       "      <td>46.67</td>\n",
       "    </tr>\n",
       "    <tr>\n",
       "      <th>5</th>\n",
       "      <td>Henry Wu</td>\n",
       "      <td>55.57</td>\n",
       "    </tr>\n",
       "    <tr>\n",
       "      <th>6</th>\n",
       "      <td>Ivy Jones</td>\n",
       "      <td>42.06</td>\n",
       "    </tr>\n",
       "    <tr>\n",
       "      <th>7</th>\n",
       "      <td>Josephine Ou</td>\n",
       "      <td>52.51</td>\n",
       "    </tr>\n",
       "    <tr>\n",
       "      <th>8</th>\n",
       "      <td>Kristina Fan</td>\n",
       "      <td>55.46</td>\n",
       "    </tr>\n",
       "    <tr>\n",
       "      <th>9</th>\n",
       "      <td>Larry Ding</td>\n",
       "      <td>48.78</td>\n",
       "    </tr>\n",
       "    <tr>\n",
       "      <th>10</th>\n",
       "      <td>Marcos Leung</td>\n",
       "      <td>53.18</td>\n",
       "    </tr>\n",
       "    <tr>\n",
       "      <th>11</th>\n",
       "      <td>Michael Wang</td>\n",
       "      <td>58.23</td>\n",
       "    </tr>\n",
       "    <tr>\n",
       "      <th>12</th>\n",
       "      <td>Peter Leung</td>\n",
       "      <td>42.21</td>\n",
       "    </tr>\n",
       "    <tr>\n",
       "      <th>13</th>\n",
       "      <td>Teresa Wang</td>\n",
       "      <td>46.72</td>\n",
       "    </tr>\n",
       "    <tr>\n",
       "      <th>14</th>\n",
       "      <td>Terry Wu</td>\n",
       "      <td>40.76</td>\n",
       "    </tr>\n",
       "  </tbody>\n",
       "</table>\n",
       "</div>"
      ],
      "text/plain": [
       "            Names  Match\n",
       "0         Amy Lin  50.29\n",
       "1      David Will  47.77\n",
       "2       Diggy Mao  51.81\n",
       "3       Elisa Wei  59.65\n",
       "4    Grace Jordon  46.67\n",
       "5        Henry Wu  55.57\n",
       "6       Ivy Jones  42.06\n",
       "7   Josephine Ou   52.51\n",
       "8    Kristina Fan  55.46\n",
       "9      Larry Ding  48.78\n",
       "10   Marcos Leung  53.18\n",
       "11   Michael Wang  58.23\n",
       "12    Peter Leung  42.21\n",
       "13    Teresa Wang  46.72\n",
       "14       Terry Wu  40.76"
      ]
     },
     "execution_count": 935,
     "metadata": {},
     "output_type": "execute_result"
    }
   ],
   "source": [
    "df={'Names':names,'Match':match}\n",
    "df1=pd.DataFrame(df)\n",
    "df1"
   ]
  },
  {
   "cell_type": "markdown",
   "metadata": {},
   "source": [
    "### <span id=\"T\">Top 5 Candiates for Interview:</span>"
   ]
  },
  {
   "cell_type": "markdown",
   "metadata": {},
   "source": [
    "Select the top 5 match most, and sort the match score by descending sequence. "
   ]
  },
  {
   "cell_type": "code",
   "execution_count": 936,
   "metadata": {
    "scrolled": false
   },
   "outputs": [
    {
     "data": {
      "text/html": [
       "<div>\n",
       "<style scoped>\n",
       "    .dataframe tbody tr th:only-of-type {\n",
       "        vertical-align: middle;\n",
       "    }\n",
       "\n",
       "    .dataframe tbody tr th {\n",
       "        vertical-align: top;\n",
       "    }\n",
       "\n",
       "    .dataframe thead th {\n",
       "        text-align: right;\n",
       "    }\n",
       "</style>\n",
       "<table border=\"1\" class=\"dataframe\">\n",
       "  <thead>\n",
       "    <tr style=\"text-align: right;\">\n",
       "      <th></th>\n",
       "      <th>Names</th>\n",
       "      <th>Match</th>\n",
       "    </tr>\n",
       "  </thead>\n",
       "  <tbody>\n",
       "    <tr>\n",
       "      <th>3</th>\n",
       "      <td>Elisa Wei</td>\n",
       "      <td>59.65</td>\n",
       "    </tr>\n",
       "    <tr>\n",
       "      <th>11</th>\n",
       "      <td>Michael Wang</td>\n",
       "      <td>58.23</td>\n",
       "    </tr>\n",
       "    <tr>\n",
       "      <th>5</th>\n",
       "      <td>Henry Wu</td>\n",
       "      <td>55.57</td>\n",
       "    </tr>\n",
       "    <tr>\n",
       "      <th>8</th>\n",
       "      <td>Kristina Fan</td>\n",
       "      <td>55.46</td>\n",
       "    </tr>\n",
       "    <tr>\n",
       "      <th>10</th>\n",
       "      <td>Marcos Leung</td>\n",
       "      <td>53.18</td>\n",
       "    </tr>\n",
       "  </tbody>\n",
       "</table>\n",
       "</div>"
      ],
      "text/plain": [
       "           Names  Match\n",
       "3      Elisa Wei  59.65\n",
       "11  Michael Wang  58.23\n",
       "5       Henry Wu  55.57\n",
       "8   Kristina Fan  55.46\n",
       "10  Marcos Leung  53.18"
      ]
     },
     "execution_count": 936,
     "metadata": {},
     "output_type": "execute_result"
    }
   ],
   "source": [
    "df1.nlargest(5,\"Match\")"
   ]
  },
  {
   "cell_type": "markdown",
   "metadata": {},
   "source": [
    "Create a function, using python set to find out the Five top applicants who match with the Seven keyskills."
   ]
  },
  {
   "cell_type": "code",
   "execution_count": 937,
   "metadata": {},
   "outputs": [],
   "source": [
    "def match_keyskills (data1, data2):\n",
    "    pair=data1 & data2.keys()\n",
    "    pairlist=list(pair)\n",
    "    pairlist.sort(reverse=False)\n",
    "    \n",
    "    print(pairlist)\n",
    "    \n",
    "    "
   ]
  },
  {
   "cell_type": "code",
   "execution_count": 938,
   "metadata": {
    "scrolled": true
   },
   "outputs": [
    {
     "name": "stdout",
     "output_type": "stream",
     "text": [
      "['0', '1', '2', '3', '4', '5', '6', '7']\n",
      "['0', '1', '2', '3', '4', '5', '6']\n",
      "['0', '1', '2', '3', '4', '5', '6', '7']\n",
      "['0', '1', '2', '3', '4', '5', '7']\n",
      "['0', '1', '2', '3', '4', '5', '6', '7']\n"
     ]
    }
   ],
   "source": [
    "match_keyskills(all_filesnew[3], skills)\n",
    "match_keyskills(all_filesnew[11], skills)\n",
    "match_keyskills(all_filesnew[5], skills)\n",
    "match_keyskills(all_filesnew[8], skills)\n",
    "match_keyskills(all_filesnew[10], skills)"
   ]
  },
  {
   "cell_type": "markdown",
   "metadata": {},
   "source": [
    "### <span id=\"W\">Write to a csv file, call ToInterview.csv:</span>"
   ]
  },
  {
   "cell_type": "code",
   "execution_count": 940,
   "metadata": {},
   "outputs": [],
   "source": [
    "import csv\n",
    "with open('ToInterview.csv','w',newline='') as file:\n",
    "    writer=csv.writer(file)\n",
    "    writer.writerow(['Piority','Names','Match Score','Match Keyskills'])\n",
    "    writer.writerow([1,\"Elisa Wei\",\"59.65\",\"'0', '1', '2', '3', '4', '5', '6', '7'\"])\n",
    "    writer.writerow([2,\"Michael Wang\",\"58.23\",\"'0', '1', '2', '3', '4', '5', '6'\"])\n",
    "    writer.writerow([3,\"Henry Wu\",\"55.57\",\"'0', '1', '2', '3', '4', '5', '6', '7'\"])\n",
    "    writer.writerow([4,\"Kristina Fan\",\"55.46\",\"'0', '1', '2', '3', '4', '5', '7'\"])\n",
    "    writer.writerow([5,\"Marcos Leung\",\"53.18\",\"'0', '1', '2', '3', '4', '5', '6', '7'\"])\n",
    "    \n",
    "    writer.writerow([10,\"Seven Key skills\"])\n",
    "    writer.writerow([11,\"0.Mastery of one of Python, Java, Scala, C++ or equivalent language\"])\n",
    "    writer.writerow([12,\"1.Experience building data science or data analysis tools on Hadoop/cloud based systems\"])\n",
    "    writer.writerow([13,\"2.Some experience with Docker, Kubernetes, or cloud platform deployment\"])\n",
    "   \n",
    "    writer.writerow([14,\"3.Experience with Relational databases and NoSQL databases\"])\n",
    "    writer.writerow([15,\"4.Demonstrated understanding of the full software development lifecycle\"])\n",
    "    \n",
    "    writer.writerow([16,\"5.Excellent problem solving, critical thinking, and communication skills\"])\n",
    "    writer.writerow([17,\"6.Solid grasp of computer science fundamentals including data structures and algorithms\"])\n",
    "    writer.writerow([18,\"7.Self-motivated, proactive, and solution-oriented\"])"
   ]
  },
  {
   "cell_type": "code",
   "execution_count": null,
   "metadata": {},
   "outputs": [],
   "source": [
    "ToInterview.csv"
   ]
  },
  {
   "cell_type": "markdown",
   "metadata": {},
   "source": [
    "### <span id=\"S\">Summary:</span>"
   ]
  },
  {
   "cell_type": "markdown",
   "metadata": {},
   "source": [
    "The steps to select Five candiates for interview:\n",
    "\n",
    "1.Looping through Candiates.csv to read the 15 resumes.\n",
    "2.Using Python sklearn feature CountVectorizer to caculate similarity between applicants and job descrption, filltered        out Candiates are less qualitfied, and remained five qualified applicants, sorted by match score. \n",
    "3.Using Python set to compare five candiates with seven keyskills to find out the five candiates having what keyskills.\n",
    "4.Write a CSV file called Tointerview.csv to list five candidates , their match score, piority to inteview, and what     keyskills they qualified. "
   ]
  },
  {
   "cell_type": "markdown",
   "metadata": {},
   "source": [
    "### <span id=\"Re\">Recommendation:</span>"
   ]
  },
  {
   "cell_type": "markdown",
   "metadata": {},
   "source": [
    "The Toinerview.csv file is a good referance for interviewers to pre-understand the five candidates and prepare the interview quesitons."
   ]
  },
  {
   "cell_type": "code",
   "execution_count": null,
   "metadata": {},
   "outputs": [],
   "source": []
  }
 ],
 "metadata": {
  "kernelspec": {
   "display_name": "Python 3",
   "language": "python",
   "name": "python3"
  },
  "language_info": {
   "codemirror_mode": {
    "name": "ipython",
    "version": 3
   },
   "file_extension": ".py",
   "mimetype": "text/x-python",
   "name": "python",
   "nbconvert_exporter": "python",
   "pygments_lexer": "ipython3",
   "version": "3.8.8"
  }
 },
 "nbformat": 4,
 "nbformat_minor": 4
}
